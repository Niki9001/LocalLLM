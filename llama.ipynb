{
  "nbformat": 4,
  "nbformat_minor": 0,
  "metadata": {
    "colab": {
      "provenance": [],
      "gpuType": "A100",
      "machine_shape": "hm",
      "authorship_tag": "ABX9TyMxJU0C90wxy01hwtFi6h7t",
      "include_colab_link": true
    },
    "kernelspec": {
      "name": "python3",
      "display_name": "Python 3"
    },
    "language_info": {
      "name": "python"
    },
    "accelerator": "GPU"
  },
  "cells": [
    {
      "cell_type": "markdown",
      "metadata": {
        "id": "view-in-github",
        "colab_type": "text"
      },
      "source": [
        "<a href=\"https://colab.research.google.com/github/Niki9001/LocalLLM/blob/main/llama.ipynb\" target=\"_parent\"><img src=\"https://colab.research.google.com/assets/colab-badge.svg\" alt=\"Open In Colab\"/></a>"
      ]
    },
    {
      "cell_type": "code",
      "execution_count": null,
      "metadata": {
        "id": "clHg_aVwSr6v"
      },
      "outputs": [],
      "source": []
    },
    {
      "cell_type": "markdown",
      "source": [
        "从git克隆llama"
      ],
      "metadata": {
        "id": "iDLDo3T5wvE4"
      }
    },
    {
      "cell_type": "code",
      "source": [
        "!git clone https://github.com/facebookresearch/llama.git"
      ],
      "metadata": {
        "colab": {
          "base_uri": "https://localhost:8080/"
        },
        "id": "9MbQzDpbTLuf",
        "outputId": "a9f38c95-b302-41c0-c00f-03d812072f29"
      },
      "execution_count": 9,
      "outputs": [
        {
          "output_type": "stream",
          "name": "stdout",
          "text": [
            "fatal: destination path 'llama' already exists and is not an empty directory.\n"
          ]
        }
      ]
    },
    {
      "cell_type": "markdown",
      "source": [
        "下载权重模型"
      ],
      "metadata": {
        "id": "BbA6shGxw5IM"
      }
    },
    {
      "cell_type": "code",
      "source": [
        "!cd /content/llama && bash download.sh"
      ],
      "metadata": {
        "colab": {
          "base_uri": "https://localhost:8080/"
        },
        "id": "wTJ63U2qTaYd",
        "outputId": "0937200c-7fb9-48d7-d9f9-3583e302fde7"
      },
      "execution_count": 11,
      "outputs": [
        {
          "output_type": "stream",
          "name": "stdout",
          "text": [
            "Enter the URL from email: https://download.llamameta.net/*?Policy=eyJTdGF0ZW1lbnQiOlt7InVuaXF1ZV9oYXNoIjoiem15YzVwejc3cHl3MGttcmM4NGlpc2U3IiwiUmVzb3VyY2UiOiJodHRwczpcL1wvZG93bmxvYWQubGxhbWFtZXRhLm5ldFwvKiIsIkNvbmRpdGlvbiI6eyJEYXRlTGVzc1RoYW4iOnsiQVdTOkVwb2NoVGltZSI6MTcwOTEyNTg5NX19fV19&Signature=SzBXphOvspcvHFJNpLiFvbdJ-0N4mt58ei-lEAUP0tKquBLR8xGwSp3okn0uaBV2SLckquPqvsIbbqcIfBpCEY2%7Er28Xt7cZyprROP9Oee8R3v%7Elhdtt%7EC4BZ08W1PMbPr1-ftWosZ4X2c1FIFdIUFhmeo8kNUsCY5D9qCowmeLlXaR-z1jQyGPjmF%7E-JyB1%7EbMMpPZSHnwjpeLbqS26NKMTxxWdP246UypyRPguHy9cI1YQhhHZSglDsJvf26i7xt8y2SFR-sg%7Ei8jqbBL1pLQmynP8ff3FBJPDNfWn65nQ-C2iczI26nyY5Iwe9anIqv8lXKzo9J4abskNoXMHlg__&Key-Pair-Id=K15QRJLYKIFSLZ&Download-Request-ID=390730150268650\n",
            "\n",
            "Enter the list of models to download without spaces (7B,13B,70B,7B-chat,13B-chat,70B-chat), or press Enter for all: 7B\n",
            "Downloading LICENSE and Acceptable Usage Policy\n",
            "--2024-02-27 13:19:02--  https://download.llamameta.net/LICENSE?Policy=eyJTdGF0ZW1lbnQiOlt7InVuaXF1ZV9oYXNoIjoiem15YzVwejc3cHl3MGttcmM4NGlpc2U3IiwiUmVzb3VyY2UiOiJodHRwczpcL1wvZG93bmxvYWQubGxhbWFtZXRhLm5ldFwvKiIsIkNvbmRpdGlvbiI6eyJEYXRlTGVzc1RoYW4iOnsiQVdTOkVwb2NoVGltZSI6MTcwOTEyNTg5NX19fV19&Signature=SzBXphOvspcvHFJNpLiFvbdJ-0N4mt58ei-lEAUP0tKquBLR8xGwSp3okn0uaBV2SLckquPqvsIbbqcIfBpCEY2%7Er28Xt7cZyprROP9Oee8R3v%7Elhdtt%7EC4BZ08W1PMbPr1-ftWosZ4X2c1FIFdIUFhmeo8kNUsCY5D9qCowmeLlXaR-z1jQyGPjmF%7E-JyB1%7EbMMpPZSHnwjpeLbqS26NKMTxxWdP246UypyRPguHy9cI1YQhhHZSglDsJvf26i7xt8y2SFR-sg%7Ei8jqbBL1pLQmynP8ff3FBJPDNfWn65nQ-C2iczI26nyY5Iwe9anIqv8lXKzo9J4abskNoXMHlg__&Key-Pair-Id=K15QRJLYKIFSLZ&Download-Request-ID=390730150268650\n",
            "Resolving download.llamameta.net (download.llamameta.net)... 13.33.88.45, 13.33.88.62, 13.33.88.72, ...\n",
            "Connecting to download.llamameta.net (download.llamameta.net)|13.33.88.45|:443... connected.\n",
            "HTTP request sent, awaiting response... 416 Requested Range Not Satisfiable\n",
            "\n",
            "    The file is already fully retrieved; nothing to do.\n",
            "\n",
            "--2024-02-27 13:19:03--  https://download.llamameta.net/USE_POLICY.md?Policy=eyJTdGF0ZW1lbnQiOlt7InVuaXF1ZV9oYXNoIjoiem15YzVwejc3cHl3MGttcmM4NGlpc2U3IiwiUmVzb3VyY2UiOiJodHRwczpcL1wvZG93bmxvYWQubGxhbWFtZXRhLm5ldFwvKiIsIkNvbmRpdGlvbiI6eyJEYXRlTGVzc1RoYW4iOnsiQVdTOkVwb2NoVGltZSI6MTcwOTEyNTg5NX19fV19&Signature=SzBXphOvspcvHFJNpLiFvbdJ-0N4mt58ei-lEAUP0tKquBLR8xGwSp3okn0uaBV2SLckquPqvsIbbqcIfBpCEY2%7Er28Xt7cZyprROP9Oee8R3v%7Elhdtt%7EC4BZ08W1PMbPr1-ftWosZ4X2c1FIFdIUFhmeo8kNUsCY5D9qCowmeLlXaR-z1jQyGPjmF%7E-JyB1%7EbMMpPZSHnwjpeLbqS26NKMTxxWdP246UypyRPguHy9cI1YQhhHZSglDsJvf26i7xt8y2SFR-sg%7Ei8jqbBL1pLQmynP8ff3FBJPDNfWn65nQ-C2iczI26nyY5Iwe9anIqv8lXKzo9J4abskNoXMHlg__&Key-Pair-Id=K15QRJLYKIFSLZ&Download-Request-ID=390730150268650\n",
            "Resolving download.llamameta.net (download.llamameta.net)... 13.33.88.45, 13.33.88.62, 13.33.88.72, ...\n",
            "Connecting to download.llamameta.net (download.llamameta.net)|13.33.88.45|:443... connected.\n",
            "HTTP request sent, awaiting response... 416 Requested Range Not Satisfiable\n",
            "\n",
            "    The file is already fully retrieved; nothing to do.\n",
            "\n",
            "Downloading tokenizer\n",
            "--2024-02-27 13:19:03--  https://download.llamameta.net/tokenizer.model?Policy=eyJTdGF0ZW1lbnQiOlt7InVuaXF1ZV9oYXNoIjoiem15YzVwejc3cHl3MGttcmM4NGlpc2U3IiwiUmVzb3VyY2UiOiJodHRwczpcL1wvZG93bmxvYWQubGxhbWFtZXRhLm5ldFwvKiIsIkNvbmRpdGlvbiI6eyJEYXRlTGVzc1RoYW4iOnsiQVdTOkVwb2NoVGltZSI6MTcwOTEyNTg5NX19fV19&Signature=SzBXphOvspcvHFJNpLiFvbdJ-0N4mt58ei-lEAUP0tKquBLR8xGwSp3okn0uaBV2SLckquPqvsIbbqcIfBpCEY2%7Er28Xt7cZyprROP9Oee8R3v%7Elhdtt%7EC4BZ08W1PMbPr1-ftWosZ4X2c1FIFdIUFhmeo8kNUsCY5D9qCowmeLlXaR-z1jQyGPjmF%7E-JyB1%7EbMMpPZSHnwjpeLbqS26NKMTxxWdP246UypyRPguHy9cI1YQhhHZSglDsJvf26i7xt8y2SFR-sg%7Ei8jqbBL1pLQmynP8ff3FBJPDNfWn65nQ-C2iczI26nyY5Iwe9anIqv8lXKzo9J4abskNoXMHlg__&Key-Pair-Id=K15QRJLYKIFSLZ&Download-Request-ID=390730150268650\n",
            "Resolving download.llamameta.net (download.llamameta.net)... 13.33.88.45, 13.33.88.62, 13.33.88.72, ...\n",
            "Connecting to download.llamameta.net (download.llamameta.net)|13.33.88.45|:443... connected.\n",
            "HTTP request sent, awaiting response... 200 OK\n",
            "Length: 499723 (488K) [binary/octet-stream]\n",
            "Saving to: ‘./tokenizer.model’\n",
            "\n",
            "./tokenizer.model   100%[===================>] 488.01K  --.-KB/s    in 0.007s  \n",
            "\n",
            "2024-02-27 13:19:03 (63.7 MB/s) - ‘./tokenizer.model’ saved [499723/499723]\n",
            "\n",
            "--2024-02-27 13:19:03--  https://download.llamameta.net/tokenizer_checklist.chk?Policy=eyJTdGF0ZW1lbnQiOlt7InVuaXF1ZV9oYXNoIjoiem15YzVwejc3cHl3MGttcmM4NGlpc2U3IiwiUmVzb3VyY2UiOiJodHRwczpcL1wvZG93bmxvYWQubGxhbWFtZXRhLm5ldFwvKiIsIkNvbmRpdGlvbiI6eyJEYXRlTGVzc1RoYW4iOnsiQVdTOkVwb2NoVGltZSI6MTcwOTEyNTg5NX19fV19&Signature=SzBXphOvspcvHFJNpLiFvbdJ-0N4mt58ei-lEAUP0tKquBLR8xGwSp3okn0uaBV2SLckquPqvsIbbqcIfBpCEY2%7Er28Xt7cZyprROP9Oee8R3v%7Elhdtt%7EC4BZ08W1PMbPr1-ftWosZ4X2c1FIFdIUFhmeo8kNUsCY5D9qCowmeLlXaR-z1jQyGPjmF%7E-JyB1%7EbMMpPZSHnwjpeLbqS26NKMTxxWdP246UypyRPguHy9cI1YQhhHZSglDsJvf26i7xt8y2SFR-sg%7Ei8jqbBL1pLQmynP8ff3FBJPDNfWn65nQ-C2iczI26nyY5Iwe9anIqv8lXKzo9J4abskNoXMHlg__&Key-Pair-Id=K15QRJLYKIFSLZ&Download-Request-ID=390730150268650\n",
            "Resolving download.llamameta.net (download.llamameta.net)... 13.33.88.45, 13.33.88.62, 13.33.88.72, ...\n",
            "Connecting to download.llamameta.net (download.llamameta.net)|13.33.88.45|:443... connected.\n",
            "HTTP request sent, awaiting response... 200 OK\n",
            "Length: 50 [binary/octet-stream]\n",
            "Saving to: ‘./tokenizer_checklist.chk’\n",
            "\n",
            "./tokenizer_checkli 100%[===================>]      50  --.-KB/s    in 0s      \n",
            "\n",
            "2024-02-27 13:19:03 (7.02 MB/s) - ‘./tokenizer_checklist.chk’ saved [50/50]\n",
            "\n",
            "tokenizer.model: OK\n",
            "Downloading llama-2-7b\n",
            "--2024-02-27 13:19:03--  https://download.llamameta.net/llama-2-7b/consolidated.00.pth?Policy=eyJTdGF0ZW1lbnQiOlt7InVuaXF1ZV9oYXNoIjoiem15YzVwejc3cHl3MGttcmM4NGlpc2U3IiwiUmVzb3VyY2UiOiJodHRwczpcL1wvZG93bmxvYWQubGxhbWFtZXRhLm5ldFwvKiIsIkNvbmRpdGlvbiI6eyJEYXRlTGVzc1RoYW4iOnsiQVdTOkVwb2NoVGltZSI6MTcwOTEyNTg5NX19fV19&Signature=SzBXphOvspcvHFJNpLiFvbdJ-0N4mt58ei-lEAUP0tKquBLR8xGwSp3okn0uaBV2SLckquPqvsIbbqcIfBpCEY2%7Er28Xt7cZyprROP9Oee8R3v%7Elhdtt%7EC4BZ08W1PMbPr1-ftWosZ4X2c1FIFdIUFhmeo8kNUsCY5D9qCowmeLlXaR-z1jQyGPjmF%7E-JyB1%7EbMMpPZSHnwjpeLbqS26NKMTxxWdP246UypyRPguHy9cI1YQhhHZSglDsJvf26i7xt8y2SFR-sg%7Ei8jqbBL1pLQmynP8ff3FBJPDNfWn65nQ-C2iczI26nyY5Iwe9anIqv8lXKzo9J4abskNoXMHlg__&Key-Pair-Id=K15QRJLYKIFSLZ&Download-Request-ID=390730150268650\n",
            "Resolving download.llamameta.net (download.llamameta.net)... 13.33.88.45, 13.33.88.62, 13.33.88.72, ...\n",
            "Connecting to download.llamameta.net (download.llamameta.net)|13.33.88.45|:443... connected.\n",
            "HTTP request sent, awaiting response... 200 OK\n",
            "Length: 13476925163 (13G) [binary/octet-stream]\n",
            "Saving to: ‘./llama-2-7b/consolidated.00.pth’\n",
            "\n",
            "./llama-2-7b/consol 100%[===================>]  12.55G   252MB/s    in 52s     \n",
            "\n",
            "2024-02-27 13:19:56 (246 MB/s) - ‘./llama-2-7b/consolidated.00.pth’ saved [13476925163/13476925163]\n",
            "\n",
            "--2024-02-27 13:19:56--  https://download.llamameta.net/llama-2-7b/params.json?Policy=eyJTdGF0ZW1lbnQiOlt7InVuaXF1ZV9oYXNoIjoiem15YzVwejc3cHl3MGttcmM4NGlpc2U3IiwiUmVzb3VyY2UiOiJodHRwczpcL1wvZG93bmxvYWQubGxhbWFtZXRhLm5ldFwvKiIsIkNvbmRpdGlvbiI6eyJEYXRlTGVzc1RoYW4iOnsiQVdTOkVwb2NoVGltZSI6MTcwOTEyNTg5NX19fV19&Signature=SzBXphOvspcvHFJNpLiFvbdJ-0N4mt58ei-lEAUP0tKquBLR8xGwSp3okn0uaBV2SLckquPqvsIbbqcIfBpCEY2%7Er28Xt7cZyprROP9Oee8R3v%7Elhdtt%7EC4BZ08W1PMbPr1-ftWosZ4X2c1FIFdIUFhmeo8kNUsCY5D9qCowmeLlXaR-z1jQyGPjmF%7E-JyB1%7EbMMpPZSHnwjpeLbqS26NKMTxxWdP246UypyRPguHy9cI1YQhhHZSglDsJvf26i7xt8y2SFR-sg%7Ei8jqbBL1pLQmynP8ff3FBJPDNfWn65nQ-C2iczI26nyY5Iwe9anIqv8lXKzo9J4abskNoXMHlg__&Key-Pair-Id=K15QRJLYKIFSLZ&Download-Request-ID=390730150268650\n",
            "Resolving download.llamameta.net (download.llamameta.net)... 13.33.88.62, 13.33.88.113, 13.33.88.45, ...\n",
            "Connecting to download.llamameta.net (download.llamameta.net)|13.33.88.62|:443... connected.\n",
            "HTTP request sent, awaiting response... 200 OK\n",
            "Length: 102 [application/json]\n",
            "Saving to: ‘./llama-2-7b/params.json’\n",
            "\n",
            "./llama-2-7b/params 100%[===================>]     102  --.-KB/s    in 0s      \n",
            "\n",
            "2024-02-27 13:19:57 (5.44 MB/s) - ‘./llama-2-7b/params.json’ saved [102/102]\n",
            "\n",
            "--2024-02-27 13:19:57--  https://download.llamameta.net/llama-2-7b/checklist.chk?Policy=eyJTdGF0ZW1lbnQiOlt7InVuaXF1ZV9oYXNoIjoiem15YzVwejc3cHl3MGttcmM4NGlpc2U3IiwiUmVzb3VyY2UiOiJodHRwczpcL1wvZG93bmxvYWQubGxhbWFtZXRhLm5ldFwvKiIsIkNvbmRpdGlvbiI6eyJEYXRlTGVzc1RoYW4iOnsiQVdTOkVwb2NoVGltZSI6MTcwOTEyNTg5NX19fV19&Signature=SzBXphOvspcvHFJNpLiFvbdJ-0N4mt58ei-lEAUP0tKquBLR8xGwSp3okn0uaBV2SLckquPqvsIbbqcIfBpCEY2%7Er28Xt7cZyprROP9Oee8R3v%7Elhdtt%7EC4BZ08W1PMbPr1-ftWosZ4X2c1FIFdIUFhmeo8kNUsCY5D9qCowmeLlXaR-z1jQyGPjmF%7E-JyB1%7EbMMpPZSHnwjpeLbqS26NKMTxxWdP246UypyRPguHy9cI1YQhhHZSglDsJvf26i7xt8y2SFR-sg%7Ei8jqbBL1pLQmynP8ff3FBJPDNfWn65nQ-C2iczI26nyY5Iwe9anIqv8lXKzo9J4abskNoXMHlg__&Key-Pair-Id=K15QRJLYKIFSLZ&Download-Request-ID=390730150268650\n",
            "Resolving download.llamameta.net (download.llamameta.net)... 13.33.88.62, 13.33.88.113, 13.33.88.45, ...\n",
            "Connecting to download.llamameta.net (download.llamameta.net)|13.33.88.62|:443... connected.\n",
            "HTTP request sent, awaiting response... 200 OK\n",
            "Length: 100 [binary/octet-stream]\n",
            "Saving to: ‘./llama-2-7b/checklist.chk’\n",
            "\n",
            "./llama-2-7b/checkl 100%[===================>]     100  --.-KB/s    in 0s      \n",
            "\n",
            "2024-02-27 13:19:57 (98.7 MB/s) - ‘./llama-2-7b/checklist.chk’ saved [100/100]\n",
            "\n",
            "Checking checksums\n",
            "consolidated.00.pth: OK\n",
            "params.json: OK\n"
          ]
        }
      ]
    },
    {
      "cell_type": "markdown",
      "source": [
        "llama2格式转换"
      ],
      "metadata": {
        "id": "Kip8Sp50xAAw"
      }
    },
    {
      "cell_type": "code",
      "source": [
        "!wget https://raw.githubusercontent.com/huggingface/transformers/main/src/transformers/models/llama/convert_llama_weights_to_hf.py"
      ],
      "metadata": {
        "colab": {
          "base_uri": "https://localhost:8080/"
        },
        "id": "JVJDv5RmU5np",
        "outputId": "0a0fb1f5-a78f-4d9c-c0a2-060b7ea2a850"
      },
      "execution_count": 12,
      "outputs": [
        {
          "output_type": "stream",
          "name": "stdout",
          "text": [
            "--2024-02-27 13:23:24--  https://raw.githubusercontent.com/huggingface/transformers/main/src/transformers/models/llama/convert_llama_weights_to_hf.py\n",
            "Resolving raw.githubusercontent.com (raw.githubusercontent.com)... 185.199.108.133, 185.199.109.133, 185.199.110.133, ...\n",
            "Connecting to raw.githubusercontent.com (raw.githubusercontent.com)|185.199.108.133|:443... connected.\n",
            "HTTP request sent, awaiting response... 200 OK\n",
            "Length: 14165 (14K) [text/plain]\n",
            "Saving to: ‘convert_llama_weights_to_hf.py.2’\n",
            "\n",
            "convert_llama_weigh 100%[===================>]  13.83K  --.-KB/s    in 0s      \n",
            "\n",
            "2024-02-27 13:23:24 (123 MB/s) - ‘convert_llama_weights_to_hf.py.2’ saved [14165/14165]\n",
            "\n"
          ]
        }
      ]
    },
    {
      "cell_type": "markdown",
      "source": [
        "安装transformer"
      ],
      "metadata": {
        "id": "P8lbiRWkxOKP"
      }
    },
    {
      "cell_type": "code",
      "source": [
        "!pip install git+https://github.com/huggingface/transformers"
      ],
      "metadata": {
        "colab": {
          "base_uri": "https://localhost:8080/"
        },
        "id": "lHa9ftd6aCm8",
        "outputId": "d847cd96-b860-4e5a-9c74-0ffc19f117ad"
      },
      "execution_count": 13,
      "outputs": [
        {
          "output_type": "stream",
          "name": "stdout",
          "text": [
            "Collecting git+https://github.com/huggingface/transformers\n",
            "  Cloning https://github.com/huggingface/transformers to /tmp/pip-req-build-ddvcvvmz\n",
            "  Running command git clone --filter=blob:none --quiet https://github.com/huggingface/transformers /tmp/pip-req-build-ddvcvvmz\n",
            "  Resolved https://github.com/huggingface/transformers to commit 5c341d4555ba3e4b656053317e372ebed0c5af37\n",
            "  Installing build dependencies ... \u001b[?25l\u001b[?25hdone\n",
            "  Getting requirements to build wheel ... \u001b[?25l\u001b[?25hdone\n",
            "  Preparing metadata (pyproject.toml) ... \u001b[?25l\u001b[?25hdone\n",
            "Requirement already satisfied: filelock in /usr/local/lib/python3.10/dist-packages (from transformers==4.39.0.dev0) (3.13.1)\n",
            "Requirement already satisfied: huggingface-hub<1.0,>=0.19.3 in /usr/local/lib/python3.10/dist-packages (from transformers==4.39.0.dev0) (0.20.3)\n",
            "Requirement already satisfied: numpy>=1.17 in /usr/local/lib/python3.10/dist-packages (from transformers==4.39.0.dev0) (1.25.2)\n",
            "Requirement already satisfied: packaging>=20.0 in /usr/local/lib/python3.10/dist-packages (from transformers==4.39.0.dev0) (23.2)\n",
            "Requirement already satisfied: pyyaml>=5.1 in /usr/local/lib/python3.10/dist-packages (from transformers==4.39.0.dev0) (6.0.1)\n",
            "Requirement already satisfied: regex!=2019.12.17 in /usr/local/lib/python3.10/dist-packages (from transformers==4.39.0.dev0) (2023.12.25)\n",
            "Requirement already satisfied: requests in /usr/local/lib/python3.10/dist-packages (from transformers==4.39.0.dev0) (2.31.0)\n",
            "Requirement already satisfied: tokenizers<0.19,>=0.14 in /usr/local/lib/python3.10/dist-packages (from transformers==4.39.0.dev0) (0.15.2)\n",
            "Requirement already satisfied: safetensors>=0.4.1 in /usr/local/lib/python3.10/dist-packages (from transformers==4.39.0.dev0) (0.4.2)\n",
            "Requirement already satisfied: tqdm>=4.27 in /usr/local/lib/python3.10/dist-packages (from transformers==4.39.0.dev0) (4.66.2)\n",
            "Requirement already satisfied: fsspec>=2023.5.0 in /usr/local/lib/python3.10/dist-packages (from huggingface-hub<1.0,>=0.19.3->transformers==4.39.0.dev0) (2023.6.0)\n",
            "Requirement already satisfied: typing-extensions>=3.7.4.3 in /usr/local/lib/python3.10/dist-packages (from huggingface-hub<1.0,>=0.19.3->transformers==4.39.0.dev0) (4.9.0)\n",
            "Requirement already satisfied: charset-normalizer<4,>=2 in /usr/local/lib/python3.10/dist-packages (from requests->transformers==4.39.0.dev0) (3.3.2)\n",
            "Requirement already satisfied: idna<4,>=2.5 in /usr/local/lib/python3.10/dist-packages (from requests->transformers==4.39.0.dev0) (3.6)\n",
            "Requirement already satisfied: urllib3<3,>=1.21.1 in /usr/local/lib/python3.10/dist-packages (from requests->transformers==4.39.0.dev0) (2.0.7)\n",
            "Requirement already satisfied: certifi>=2017.4.17 in /usr/local/lib/python3.10/dist-packages (from requests->transformers==4.39.0.dev0) (2024.2.2)\n",
            "Building wheels for collected packages: transformers\n",
            "  Building wheel for transformers (pyproject.toml) ... \u001b[?25l\u001b[?25hdone\n",
            "  Created wheel for transformers: filename=transformers-4.39.0.dev0-py3-none-any.whl size=8575833 sha256=050c1fe44539fa1baa24754bf837a35a175aa39564182f3a560b2976f499af37\n",
            "  Stored in directory: /tmp/pip-ephem-wheel-cache-_m59le4a/wheels/c0/14/d6/6c9a5582d2ac191ec0a483be151a4495fe1eb2a6706ca49f1b\n",
            "Successfully built transformers\n",
            "Installing collected packages: transformers\n",
            "  Attempting uninstall: transformers\n",
            "    Found existing installation: transformers 4.37.2\n",
            "    Uninstalling transformers-4.37.2:\n",
            "      Successfully uninstalled transformers-4.37.2\n",
            "Successfully installed transformers-4.39.0.dev0\n"
          ]
        }
      ]
    },
    {
      "cell_type": "markdown",
      "source": [
        "安装加速"
      ],
      "metadata": {
        "id": "C2oIfdE4xQsn"
      }
    },
    {
      "cell_type": "code",
      "source": [
        "!pip install accelerate"
      ],
      "metadata": {
        "colab": {
          "base_uri": "https://localhost:8080/"
        },
        "id": "9Tg4eS-MaW0d",
        "outputId": "9bc044c4-8a36-4096-e48d-58090794a40a"
      },
      "execution_count": 14,
      "outputs": [
        {
          "output_type": "stream",
          "name": "stdout",
          "text": [
            "Collecting accelerate\n",
            "  Downloading accelerate-0.27.2-py3-none-any.whl (279 kB)\n",
            "\u001b[?25l     \u001b[90m━━━━━━━━━━━━━━━━━━━━━━━━━━━━━━━━━━━━━━━━\u001b[0m \u001b[32m0.0/280.0 kB\u001b[0m \u001b[31m?\u001b[0m eta \u001b[36m-:--:--\u001b[0m\r\u001b[2K     \u001b[91m━━━━━━━━━━━━━━━━━━━━━━━━━━━━━━━━━━━━━━━\u001b[0m\u001b[90m╺\u001b[0m \u001b[32m276.5/280.0 kB\u001b[0m \u001b[31m8.3 MB/s\u001b[0m eta \u001b[36m0:00:01\u001b[0m\r\u001b[2K     \u001b[90m━━━━━━━━━━━━━━━━━━━━━━━━━━━━━━━━━━━━━━━━\u001b[0m \u001b[32m280.0/280.0 kB\u001b[0m \u001b[31m6.7 MB/s\u001b[0m eta \u001b[36m0:00:00\u001b[0m\n",
            "\u001b[?25hRequirement already satisfied: numpy>=1.17 in /usr/local/lib/python3.10/dist-packages (from accelerate) (1.25.2)\n",
            "Requirement already satisfied: packaging>=20.0 in /usr/local/lib/python3.10/dist-packages (from accelerate) (23.2)\n",
            "Requirement already satisfied: psutil in /usr/local/lib/python3.10/dist-packages (from accelerate) (5.9.5)\n",
            "Requirement already satisfied: pyyaml in /usr/local/lib/python3.10/dist-packages (from accelerate) (6.0.1)\n",
            "Requirement already satisfied: torch>=1.10.0 in /usr/local/lib/python3.10/dist-packages (from accelerate) (2.1.0+cu121)\n",
            "Requirement already satisfied: huggingface-hub in /usr/local/lib/python3.10/dist-packages (from accelerate) (0.20.3)\n",
            "Requirement already satisfied: safetensors>=0.3.1 in /usr/local/lib/python3.10/dist-packages (from accelerate) (0.4.2)\n",
            "Requirement already satisfied: filelock in /usr/local/lib/python3.10/dist-packages (from torch>=1.10.0->accelerate) (3.13.1)\n",
            "Requirement already satisfied: typing-extensions in /usr/local/lib/python3.10/dist-packages (from torch>=1.10.0->accelerate) (4.9.0)\n",
            "Requirement already satisfied: sympy in /usr/local/lib/python3.10/dist-packages (from torch>=1.10.0->accelerate) (1.12)\n",
            "Requirement already satisfied: networkx in /usr/local/lib/python3.10/dist-packages (from torch>=1.10.0->accelerate) (3.2.1)\n",
            "Requirement already satisfied: jinja2 in /usr/local/lib/python3.10/dist-packages (from torch>=1.10.0->accelerate) (3.1.3)\n",
            "Requirement already satisfied: fsspec in /usr/local/lib/python3.10/dist-packages (from torch>=1.10.0->accelerate) (2023.6.0)\n",
            "Requirement already satisfied: triton==2.1.0 in /usr/local/lib/python3.10/dist-packages (from torch>=1.10.0->accelerate) (2.1.0)\n",
            "Requirement already satisfied: requests in /usr/local/lib/python3.10/dist-packages (from huggingface-hub->accelerate) (2.31.0)\n",
            "Requirement already satisfied: tqdm>=4.42.1 in /usr/local/lib/python3.10/dist-packages (from huggingface-hub->accelerate) (4.66.2)\n",
            "Requirement already satisfied: MarkupSafe>=2.0 in /usr/local/lib/python3.10/dist-packages (from jinja2->torch>=1.10.0->accelerate) (2.1.5)\n",
            "Requirement already satisfied: charset-normalizer<4,>=2 in /usr/local/lib/python3.10/dist-packages (from requests->huggingface-hub->accelerate) (3.3.2)\n",
            "Requirement already satisfied: idna<4,>=2.5 in /usr/local/lib/python3.10/dist-packages (from requests->huggingface-hub->accelerate) (3.6)\n",
            "Requirement already satisfied: urllib3<3,>=1.21.1 in /usr/local/lib/python3.10/dist-packages (from requests->huggingface-hub->accelerate) (2.0.7)\n",
            "Requirement already satisfied: certifi>=2017.4.17 in /usr/local/lib/python3.10/dist-packages (from requests->huggingface-hub->accelerate) (2024.2.2)\n",
            "Requirement already satisfied: mpmath>=0.19 in /usr/local/lib/python3.10/dist-packages (from sympy->torch>=1.10.0->accelerate) (1.3.0)\n",
            "Installing collected packages: accelerate\n",
            "Successfully installed accelerate-0.27.2\n"
          ]
        }
      ]
    },
    {
      "cell_type": "markdown",
      "source": [
        "安装依赖包"
      ],
      "metadata": {
        "id": "MXYAF-a4xT1Q"
      }
    },
    {
      "cell_type": "code",
      "source": [
        "!pip install sentencepiece"
      ],
      "metadata": {
        "colab": {
          "base_uri": "https://localhost:8080/"
        },
        "id": "DLrzkUNMadP7",
        "outputId": "9c9c6272-531d-4c82-eeac-a1e4f95ea4ac"
      },
      "execution_count": 15,
      "outputs": [
        {
          "output_type": "stream",
          "name": "stdout",
          "text": [
            "Requirement already satisfied: sentencepiece in /usr/local/lib/python3.10/dist-packages (0.1.99)\n"
          ]
        }
      ]
    },
    {
      "cell_type": "markdown",
      "source": [
        "在执行下面的代码前，需要在folder里将三个模型文件移到7B里，tokenizer移到llama-2-7b里"
      ],
      "metadata": {
        "id": "DRDSwbSzxWb4"
      }
    },
    {
      "cell_type": "code",
      "source": [
        "!python convert_llama_weights_to_hf.py --input_dir /content/llama/llama-2-7b --model_size 7B --output_dir /content/llama/models_hf/7B"
      ],
      "metadata": {
        "colab": {
          "base_uri": "https://localhost:8080/"
        },
        "id": "GRbsBFA-alvc",
        "outputId": "efa5546a-0f84-4d7e-cbb7-2502ef84a8c5"
      },
      "execution_count": 16,
      "outputs": [
        {
          "output_type": "stream",
          "name": "stdout",
          "text": [
            "You are using the default legacy behaviour of the <class 'transformers.models.llama.tokenization_llama.LlamaTokenizer'>. This is expected, and simply means that the `legacy` (previous) behavior will be used so nothing changes for you. If you want to use the new behaviour, set `legacy=False`. This should only be set if you understand what it means, and thoroughly read the reason why this was added as explained in https://github.com/huggingface/transformers/pull/24565\n",
            "Fetching all parameters from the checkpoint at /content/llama/llama-2-7b/7B.\n",
            "Loading the checkpoint in a Llama model.\n",
            "Loading checkpoint shards:   0% 0/33 [00:00<?, ?it/s]/usr/local/lib/python3.10/dist-packages/torch/_utils.py:831: UserWarning: TypedStorage is deprecated. It will be removed in the future and UntypedStorage will be the only storage class. This should only matter to you if you are using storages directly.  To access UntypedStorage directly, use tensor.untyped_storage() instead of tensor.storage()\n",
            "  return self.fget.__get__(instance, owner)()\n",
            "Loading checkpoint shards: 100% 33/33 [00:02<00:00, 11.67it/s]\n",
            "Saving in the Transformers format.\n"
          ]
        }
      ]
    },
    {
      "cell_type": "markdown",
      "source": [
        "下面就可以微调了"
      ],
      "metadata": {
        "id": "yF0DLy_lx1N-"
      }
    },
    {
      "cell_type": "code",
      "source": [
        "!git clone https://github.com/facebookresearch/llama-recipes.git"
      ],
      "metadata": {
        "id": "Do4m5RfxwPPI"
      },
      "execution_count": null,
      "outputs": []
    }
  ]
}